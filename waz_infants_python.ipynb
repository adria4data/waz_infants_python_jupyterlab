{
 "cells": [
  {
   "cell_type": "markdown",
   "id": "8e032757-07f4-4558-8f19-f5c1e9b2aa24",
   "metadata": {
    "tags": []
   },
   "source": [
    "# Predictors of Weight in Romanian Infants: Weight-for-age z-scores (WAZ)\n",
    "# Adrian Rus\n",
    "\n",
    "October 2023\n"
   ]
  },
  {
   "cell_type": "code",
   "execution_count": 2,
   "id": "c725e2d4-78e0-40ec-bc38-3d4f80098eaa",
   "metadata": {},
   "outputs": [],
   "source": [
    "import numpy as np\n",
    "import pandas as pd\n",
    "import matplotlib.pyplot as plt"
   ]
  },
  {
   "cell_type": "code",
   "execution_count": null,
   "id": "8c74d4a3-9664-4eba-b4f0-130045c4d868",
   "metadata": {},
   "outputs": [],
   "source": []
  },
  {
   "cell_type": "code",
   "execution_count": null,
   "id": "f43fa313-0d54-48d0-a1ad-5d4b8d18cfd3",
   "metadata": {},
   "outputs": [],
   "source": []
  },
  {
   "cell_type": "code",
   "execution_count": null,
   "id": "100c0f5f-c114-47fd-80da-36a51af81655",
   "metadata": {},
   "outputs": [],
   "source": []
  },
  {
   "cell_type": "code",
   "execution_count": null,
   "id": "4935eec5-014a-4968-9105-05e91e11344e",
   "metadata": {},
   "outputs": [],
   "source": []
  },
  {
   "cell_type": "code",
   "execution_count": null,
   "id": "b293679e-d95f-4fc6-854a-9714b38d1f3a",
   "metadata": {},
   "outputs": [],
   "source": []
  },
  {
   "cell_type": "code",
   "execution_count": null,
   "id": "eae64d96-8a7f-4a4e-85b9-a81b8bd2c82f",
   "metadata": {},
   "outputs": [],
   "source": []
  }
 ],
 "metadata": {
  "kernelspec": {
   "display_name": "Python 3 (ipykernel)",
   "language": "python",
   "name": "python3"
  },
  "language_info": {
   "codemirror_mode": {
    "name": "ipython",
    "version": 3
   },
   "file_extension": ".py",
   "mimetype": "text/x-python",
   "name": "python",
   "nbconvert_exporter": "python",
   "pygments_lexer": "ipython3",
   "version": "3.11.5"
  }
 },
 "nbformat": 4,
 "nbformat_minor": 5
}
